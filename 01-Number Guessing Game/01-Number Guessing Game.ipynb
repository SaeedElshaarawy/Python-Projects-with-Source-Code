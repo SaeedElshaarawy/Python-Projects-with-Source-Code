{
 "cells": [
  {
   "cell_type": "markdown",
   "id": "236e78c3",
   "metadata": {},
   "source": [
    "### Number Guessing Game using Python"
   ]
  },
  {
   "cell_type": "markdown",
   "id": "f80482b0",
   "metadata": {
    "ExecuteTime": {
     "end_time": "2022-08-20T21:12:41.992347Z",
     "start_time": "2022-08-20T21:12:41.977179Z"
    }
   },
   "source": [
    "To create a guessing game, we need to write a program to select a random number between 1 and 10. To give hints to the user, we can use conditional statements to tell the user if the guessed number is smaller, greater than or equal to the randomly selected number."
   ]
  },
  {
   "cell_type": "markdown",
   "id": "8aa4eadb",
   "metadata": {},
   "source": [
    "So below is how you can write a program to create a number guessing game using Python:"
   ]
  },
  {
   "cell_type": "code",
   "execution_count": 1,
   "id": "3e4b3d7b",
   "metadata": {
    "ExecuteTime": {
     "end_time": "2022-08-20T21:28:09.214967Z",
     "start_time": "2022-08-20T21:27:57.130529Z"
    }
   },
   "outputs": [
    {
     "name": "stdout",
     "output_type": "stream",
     "text": [
      "Enter any number: 2\n",
      "Too low\n",
      "Enter number again: 9\n",
      "Too high!\n",
      "Enter number again: 5\n",
      "Too high!\n",
      "Enter number again: 4\n",
      "Too high!\n",
      "Enter number again: 3\n",
      "you guessed it right!!\n"
     ]
    }
   ],
   "source": [
    "import random\n",
    "x = random.randrange(1,10)\n",
    "guess = int(input('Enter any number: '))\n",
    "while x != guess:\n",
    "    if guess < x:\n",
    "        print('Too low')\n",
    "        guess = int(input('Enter number again: '))\n",
    "    elif guess > x:\n",
    "        print('Too high!')\n",
    "        guess = int(input('Enter number again: '))\n",
    "    else:\n",
    "        break\n",
    "print('you guessed it right!!')"
   ]
  },
  {
   "cell_type": "markdown",
   "id": "5d5067fe",
   "metadata": {},
   "source": [
    "If the guessed number is lower than the randomly selected number, the user will see “too low”. If the guessed number is higher than the randomly selected number, the user will see “too high”. When the user guesses the correct number, “you guessed it right!!” will be displayed in the output."
   ]
  }
 ],
 "metadata": {
  "kernelspec": {
   "display_name": "Python 3 (ipykernel)",
   "language": "python",
   "name": "python3"
  },
  "language_info": {
   "codemirror_mode": {
    "name": "ipython",
    "version": 3
   },
   "file_extension": ".py",
   "mimetype": "text/x-python",
   "name": "python",
   "nbconvert_exporter": "python",
   "pygments_lexer": "ipython3",
   "version": "3.9.7"
  },
  "latex_envs": {
   "LaTeX_envs_menu_present": true,
   "autoclose": false,
   "autocomplete": true,
   "bibliofile": "biblio.bib",
   "cite_by": "apalike",
   "current_citInitial": 1,
   "eqLabelWithNumbers": true,
   "eqNumInitial": 1,
   "hotkeys": {
    "equation": "Ctrl-E",
    "itemize": "Ctrl-I"
   },
   "labels_anchors": false,
   "latex_user_defs": false,
   "report_style_numbering": false,
   "user_envs_cfg": false
  },
  "varInspector": {
   "cols": {
    "lenName": 16,
    "lenType": 16,
    "lenVar": 40
   },
   "kernels_config": {
    "python": {
     "delete_cmd_postfix": "",
     "delete_cmd_prefix": "del ",
     "library": "var_list.py",
     "varRefreshCmd": "print(var_dic_list())"
    },
    "r": {
     "delete_cmd_postfix": ") ",
     "delete_cmd_prefix": "rm(",
     "library": "var_list.r",
     "varRefreshCmd": "cat(var_dic_list()) "
    }
   },
   "types_to_exclude": [
    "module",
    "function",
    "builtin_function_or_method",
    "instance",
    "_Feature"
   ],
   "window_display": false
  }
 },
 "nbformat": 4,
 "nbformat_minor": 5
}

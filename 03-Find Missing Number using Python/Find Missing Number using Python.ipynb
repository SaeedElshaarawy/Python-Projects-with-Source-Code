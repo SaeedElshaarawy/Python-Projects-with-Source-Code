{
 "cells": [
  {
   "cell_type": "markdown",
   "id": "87c853d3",
   "metadata": {},
   "source": [
    "### Find Missing Number using Python"
   ]
  },
  {
   "cell_type": "markdown",
   "id": "eee87a00",
   "metadata": {},
   "source": [
    "Finding the missing number in an array means finding the numbers missing from the array according to the range of values inside the array. Most of the time, the question you get based on this problem is like:"
   ]
  },
  {
   "cell_type": "markdown",
   "id": "9d1722e4",
   "metadata": {
    "ExecuteTime": {
     "end_time": "2022-08-21T12:21:00.559812Z",
     "start_time": "2022-08-21T12:21:00.528951Z"
    }
   },
   "source": [
    ">Given an array containing a range of numbers from 0 to n with a missing number, find the missing number in the input array."
   ]
  },
  {
   "cell_type": "markdown",
   "id": "ad40cd5c",
   "metadata": {},
   "source": [
    "To find the missing number in an array, we need to iterate over the input array and store the numbers in another array that we didn’t find in the input array while iterating over it. Below is how you can find the missing number in an array or a list using the Python programming language:"
   ]
  },
  {
   "cell_type": "code",
   "execution_count": 1,
   "id": "e035ff0c",
   "metadata": {
    "ExecuteTime": {
     "end_time": "2022-08-21T12:25:22.609511Z",
     "start_time": "2022-08-21T12:25:22.593889Z"
    }
   },
   "outputs": [
    {
     "name": "stdout",
     "output_type": "stream",
     "text": [
      "[4]\n"
     ]
    }
   ],
   "source": [
    "def findMissingNumbers(n):\n",
    "    numbers = set(n)\n",
    "    length = len(n)\n",
    "    output = []\n",
    "    for i in range(1, length + 1):\n",
    "        if i not in numbers:\n",
    "            output.append(i)\n",
    "    return output\n",
    "\n",
    "\n",
    "listOfNumbers = [1, 2, 3, 5, 6, 7, 8, 9]\n",
    "print(findMissingNumbers(listOfNumbers))"
   ]
  },
  {
   "cell_type": "markdown",
   "id": "37b3b988",
   "metadata": {},
   "source": [
    "So this is how you can find the missing numbers in an array or a list using the Python programming language."
   ]
  }
 ],
 "metadata": {
  "kernelspec": {
   "display_name": "Python 3 (ipykernel)",
   "language": "python",
   "name": "python3"
  },
  "language_info": {
   "codemirror_mode": {
    "name": "ipython",
    "version": 3
   },
   "file_extension": ".py",
   "mimetype": "text/x-python",
   "name": "python",
   "nbconvert_exporter": "python",
   "pygments_lexer": "ipython3",
   "version": "3.9.7"
  },
  "latex_envs": {
   "LaTeX_envs_menu_present": true,
   "autoclose": false,
   "autocomplete": true,
   "bibliofile": "biblio.bib",
   "cite_by": "apalike",
   "current_citInitial": 1,
   "eqLabelWithNumbers": true,
   "eqNumInitial": 1,
   "hotkeys": {
    "equation": "Ctrl-E",
    "itemize": "Ctrl-I"
   },
   "labels_anchors": false,
   "latex_user_defs": false,
   "report_style_numbering": false,
   "user_envs_cfg": false
  },
  "varInspector": {
   "cols": {
    "lenName": 16,
    "lenType": 16,
    "lenVar": 40
   },
   "kernels_config": {
    "python": {
     "delete_cmd_postfix": "",
     "delete_cmd_prefix": "del ",
     "library": "var_list.py",
     "varRefreshCmd": "print(var_dic_list())"
    },
    "r": {
     "delete_cmd_postfix": ") ",
     "delete_cmd_prefix": "rm(",
     "library": "var_list.r",
     "varRefreshCmd": "cat(var_dic_list()) "
    }
   },
   "types_to_exclude": [
    "module",
    "function",
    "builtin_function_or_method",
    "instance",
    "_Feature"
   ],
   "window_display": false
  }
 },
 "nbformat": 4,
 "nbformat_minor": 5
}
